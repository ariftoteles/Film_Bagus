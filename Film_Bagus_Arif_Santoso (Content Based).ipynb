{
 "cells": [
  {
   "cell_type": "markdown",
   "metadata": {},
   "source": [
    "# Film Bagus Content Based Recomendation"
   ]
  },
  {
   "cell_type": "markdown",
   "metadata": {},
   "source": [
    "\n",
    "## **Soal 2 - Film Bagus 🎥**\n",
    "\n",
    "Disediakan dataset daftar film beserta rating yang diberikan oleh penonton.\n",
    "- __*movies.csv*__ : [unduh](./datasets/movies.csv)\n",
    "- __*ratings.csv*__ : [unduh](./datasets/ratings.csv)\n",
    "\n",
    "1. Dengan memanfaatkan dataset tersebut, buatlah sebuah file notebook (_.ipynb_) berisi sebuah __content-based filtering recommendation system__ berdasarkan _genre movie_. Kemudian berikan __rekomendasi 5 judul film__ kepada user berikut:\n",
    "\n",
    "    - Joko sangat menyukai film bergenre animasi & action, terutama film _**Superman vs. The Elite (2012)**_.\n",
    "\n",
    "2. Dengan memanfaatkan dataset tersebut, buatlah sebuah file notebook (_.ipynb_) berisi sebuah __collaborative filtering recommendation system__, kemudian berikan __rekomendasi 5 judul film__ kepada user berikut:\n",
    "\n",
    "    - Widodo sangat menyukai film drama komedi, salah satunya bertajuk _**Being Flynn (2012)**_."
   ]
  },
  {
   "cell_type": "code",
   "execution_count": 2,
   "metadata": {},
   "outputs": [],
   "source": [
    "import numpy as np\n",
    "import pandas as pd\n",
    "from sklearn.metrics.pairwise import cosine_similarity\n",
    "from sklearn.feature_extraction.text import CountVectorizer"
   ]
  },
  {
   "cell_type": "code",
   "execution_count": 3,
   "metadata": {},
   "outputs": [
    {
     "data": {
      "text/html": [
       "<div>\n",
       "<style scoped>\n",
       "    .dataframe tbody tr th:only-of-type {\n",
       "        vertical-align: middle;\n",
       "    }\n",
       "\n",
       "    .dataframe tbody tr th {\n",
       "        vertical-align: top;\n",
       "    }\n",
       "\n",
       "    .dataframe thead th {\n",
       "        text-align: right;\n",
       "    }\n",
       "</style>\n",
       "<table border=\"1\" class=\"dataframe\">\n",
       "  <thead>\n",
       "    <tr style=\"text-align: right;\">\n",
       "      <th></th>\n",
       "      <th>movieId</th>\n",
       "      <th>title</th>\n",
       "      <th>genres</th>\n",
       "    </tr>\n",
       "  </thead>\n",
       "  <tbody>\n",
       "    <tr>\n",
       "      <td>0</td>\n",
       "      <td>1</td>\n",
       "      <td>Toy Story (1995)</td>\n",
       "      <td>Adventure|Animation|Children|Comedy|Fantasy</td>\n",
       "    </tr>\n",
       "    <tr>\n",
       "      <td>1</td>\n",
       "      <td>2</td>\n",
       "      <td>Jumanji (1995)</td>\n",
       "      <td>Adventure|Children|Fantasy</td>\n",
       "    </tr>\n",
       "    <tr>\n",
       "      <td>2</td>\n",
       "      <td>3</td>\n",
       "      <td>Grumpier Old Men (1995)</td>\n",
       "      <td>Comedy|Romance</td>\n",
       "    </tr>\n",
       "    <tr>\n",
       "      <td>3</td>\n",
       "      <td>4</td>\n",
       "      <td>Waiting to Exhale (1995)</td>\n",
       "      <td>Comedy|Drama|Romance</td>\n",
       "    </tr>\n",
       "    <tr>\n",
       "      <td>4</td>\n",
       "      <td>5</td>\n",
       "      <td>Father of the Bride Part II (1995)</td>\n",
       "      <td>Comedy</td>\n",
       "    </tr>\n",
       "  </tbody>\n",
       "</table>\n",
       "</div>"
      ],
      "text/plain": [
       "   movieId                               title  \\\n",
       "0        1                    Toy Story (1995)   \n",
       "1        2                      Jumanji (1995)   \n",
       "2        3             Grumpier Old Men (1995)   \n",
       "3        4            Waiting to Exhale (1995)   \n",
       "4        5  Father of the Bride Part II (1995)   \n",
       "\n",
       "                                        genres  \n",
       "0  Adventure|Animation|Children|Comedy|Fantasy  \n",
       "1                   Adventure|Children|Fantasy  \n",
       "2                               Comedy|Romance  \n",
       "3                         Comedy|Drama|Romance  \n",
       "4                                       Comedy  "
      ]
     },
     "metadata": {},
     "output_type": "display_data"
    }
   ],
   "source": [
    "movie = pd.read_csv('movies.csv')\n",
    "display(movie.head())"
   ]
  },
  {
   "cell_type": "markdown",
   "metadata": {},
   "source": [
    "### Cleaning Data"
   ]
  },
  {
   "cell_type": "code",
   "execution_count": 4,
   "metadata": {},
   "outputs": [
    {
     "data": {
      "text/plain": [
       "movieId    0\n",
       "title      0\n",
       "genres     0\n",
       "dtype: int64"
      ]
     },
     "execution_count": 4,
     "metadata": {},
     "output_type": "execute_result"
    }
   ],
   "source": [
    "movie.isnull().sum()"
   ]
  },
  {
   "cell_type": "code",
   "execution_count": 5,
   "metadata": {},
   "outputs": [
    {
     "name": "stdout",
     "output_type": "stream",
     "text": [
      "<class 'pandas.core.frame.DataFrame'>\n",
      "RangeIndex: 10329 entries, 0 to 10328\n",
      "Data columns (total 3 columns):\n",
      "movieId    10329 non-null int64\n",
      "title      10329 non-null object\n",
      "genres     10329 non-null object\n",
      "dtypes: int64(1), object(2)\n",
      "memory usage: 242.2+ KB\n"
     ]
    }
   ],
   "source": [
    "movie.info()"
   ]
  },
  {
   "cell_type": "code",
   "execution_count": 6,
   "metadata": {},
   "outputs": [
    {
     "data": {
      "text/plain": [
       "<bound method Series.unique of 0        Adventure|Animation|Children|Comedy|Fantasy\n",
       "1                         Adventure|Children|Fantasy\n",
       "2                                     Comedy|Romance\n",
       "3                               Comedy|Drama|Romance\n",
       "4                                             Comedy\n",
       "                            ...                     \n",
       "10324                      Animation|Children|Comedy\n",
       "10325                                         Comedy\n",
       "10326                                         Comedy\n",
       "10327                                          Drama\n",
       "10328                             (no genres listed)\n",
       "Name: genres, Length: 10329, dtype: object>"
      ]
     },
     "execution_count": 6,
     "metadata": {},
     "output_type": "execute_result"
    }
   ],
   "source": [
    "movie['genres'].unique"
   ]
  },
  {
   "cell_type": "code",
   "execution_count": 7,
   "metadata": {},
   "outputs": [
    {
     "data": {
      "text/html": [
       "<div>\n",
       "<style scoped>\n",
       "    .dataframe tbody tr th:only-of-type {\n",
       "        vertical-align: middle;\n",
       "    }\n",
       "\n",
       "    .dataframe tbody tr th {\n",
       "        vertical-align: top;\n",
       "    }\n",
       "\n",
       "    .dataframe thead th {\n",
       "        text-align: right;\n",
       "    }\n",
       "</style>\n",
       "<table border=\"1\" class=\"dataframe\">\n",
       "  <thead>\n",
       "    <tr style=\"text-align: right;\">\n",
       "      <th></th>\n",
       "      <th>movieId</th>\n",
       "      <th>title</th>\n",
       "      <th>genres</th>\n",
       "    </tr>\n",
       "  </thead>\n",
       "  <tbody>\n",
       "    <tr>\n",
       "      <td>10172</td>\n",
       "      <td>126929</td>\n",
       "      <td>Li'l Quinquin (    )</td>\n",
       "      <td>(no genres listed)</td>\n",
       "    </tr>\n",
       "    <tr>\n",
       "      <td>10260</td>\n",
       "      <td>135460</td>\n",
       "      <td>Pablo (2012)</td>\n",
       "      <td>(no genres listed)</td>\n",
       "    </tr>\n",
       "    <tr>\n",
       "      <td>10280</td>\n",
       "      <td>138863</td>\n",
       "      <td>The Big Broadcast of 1936 (1935)</td>\n",
       "      <td>(no genres listed)</td>\n",
       "    </tr>\n",
       "    <tr>\n",
       "      <td>10301</td>\n",
       "      <td>141305</td>\n",
       "      <td>Round Trip to Heaven (1992)</td>\n",
       "      <td>(no genres listed)</td>\n",
       "    </tr>\n",
       "    <tr>\n",
       "      <td>10303</td>\n",
       "      <td>141472</td>\n",
       "      <td>The 50 Year Argument (2014)</td>\n",
       "      <td>(no genres listed)</td>\n",
       "    </tr>\n",
       "    <tr>\n",
       "      <td>10317</td>\n",
       "      <td>143709</td>\n",
       "      <td>The Take (2009)</td>\n",
       "      <td>(no genres listed)</td>\n",
       "    </tr>\n",
       "    <tr>\n",
       "      <td>10328</td>\n",
       "      <td>149532</td>\n",
       "      <td>Marco Polo: One Hundred Eyes (2015)</td>\n",
       "      <td>(no genres listed)</td>\n",
       "    </tr>\n",
       "  </tbody>\n",
       "</table>\n",
       "</div>"
      ],
      "text/plain": [
       "       movieId                                title              genres\n",
       "10172   126929                 Li'l Quinquin (    )  (no genres listed)\n",
       "10260   135460                         Pablo (2012)  (no genres listed)\n",
       "10280   138863     The Big Broadcast of 1936 (1935)  (no genres listed)\n",
       "10301   141305          Round Trip to Heaven (1992)  (no genres listed)\n",
       "10303   141472          The 50 Year Argument (2014)  (no genres listed)\n",
       "10317   143709                      The Take (2009)  (no genres listed)\n",
       "10328   149532  Marco Polo: One Hundred Eyes (2015)  (no genres listed)"
      ]
     },
     "execution_count": 7,
     "metadata": {},
     "output_type": "execute_result"
    }
   ],
   "source": [
    "movie[movie['genres']=='(no genres listed)']"
   ]
  },
  {
   "cell_type": "code",
   "execution_count": 8,
   "metadata": {},
   "outputs": [
    {
     "name": "stdout",
     "output_type": "stream",
     "text": [
      "<class 'pandas.core.frame.DataFrame'>\n",
      "Int64Index: 10322 entries, 0 to 10327\n",
      "Data columns (total 3 columns):\n",
      "movieId    10322 non-null int64\n",
      "title      10322 non-null object\n",
      "genres     10322 non-null object\n",
      "dtypes: int64(1), object(2)\n",
      "memory usage: 322.6+ KB\n"
     ]
    }
   ],
   "source": [
    "movie['genres'] = movie['genres'].replace('(no genres listed)',np.NaN)\n",
    "movie = movie.dropna()\n",
    "movie.info()"
   ]
  },
  {
   "cell_type": "markdown",
   "metadata": {},
   "source": [
    "Kolom genres terdapat value '(no genres listed)', kita drop row yang memiliki value tersebut"
   ]
  },
  {
   "cell_type": "markdown",
   "metadata": {},
   "source": [
    "## Content Based Filtering"
   ]
  },
  {
   "cell_type": "code",
   "execution_count": 9,
   "metadata": {},
   "outputs": [
    {
     "name": "stdout",
     "output_type": "stream",
     "text": [
      "['action', 'adventure', 'animation', 'children', 'comedy', 'crime', 'documentary', 'drama', 'fantasy', 'film-noir', 'horror', 'imax', 'musical', 'mystery', 'romance', 'sci-fi', 'thriller', 'war', 'western']\n"
     ]
    },
    {
     "data": {
      "text/plain": [
       "array([[0, 1, 1, ..., 0, 0, 0],\n",
       "       [0, 1, 0, ..., 0, 0, 0],\n",
       "       [0, 0, 0, ..., 0, 0, 0],\n",
       "       ...,\n",
       "       [0, 0, 0, ..., 0, 0, 0],\n",
       "       [0, 0, 0, ..., 0, 0, 0],\n",
       "       [0, 0, 0, ..., 0, 0, 0]], dtype=int64)"
      ]
     },
     "execution_count": 9,
     "metadata": {},
     "output_type": "execute_result"
    }
   ],
   "source": [
    "cv = CountVectorizer(tokenizer= lambda x: x.split('|'))\n",
    "ca = cv.fit_transform(movie['genres'])\n",
    "ca = ca.toarray()\n",
    "print(cv.get_feature_names())\n",
    "ca"
   ]
  },
  {
   "cell_type": "code",
   "execution_count": 10,
   "metadata": {},
   "outputs": [
    {
     "data": {
      "text/plain": [
       "array([[1.        , 0.77459667, 0.31622777, ..., 0.4472136 , 0.4472136 ,\n",
       "        0.        ],\n",
       "       [0.77459667, 1.        , 0.        , ..., 0.        , 0.        ,\n",
       "        0.        ],\n",
       "       [0.31622777, 0.        , 1.        , ..., 0.70710678, 0.70710678,\n",
       "        0.        ],\n",
       "       ...,\n",
       "       [0.4472136 , 0.        , 0.70710678, ..., 1.        , 1.        ,\n",
       "        0.        ],\n",
       "       [0.4472136 , 0.        , 0.70710678, ..., 1.        , 1.        ,\n",
       "        0.        ],\n",
       "       [0.        , 0.        , 0.        , ..., 0.        , 0.        ,\n",
       "        1.        ]])"
      ]
     },
     "execution_count": 10,
     "metadata": {},
     "output_type": "execute_result"
    }
   ],
   "source": [
    "Score = cosine_similarity(ca)\n",
    "Score"
   ]
  },
  {
   "cell_type": "markdown",
   "metadata": {},
   "source": [
    "### Rekomendasi untuk Joko\n",
    "\n",
    "Joko sangat menyukai film bergenre animasi & action, terutama film _Superman vs. The Elite (2012)_"
   ]
  },
  {
   "cell_type": "code",
   "execution_count": 21,
   "metadata": {},
   "outputs": [
    {
     "data": {
      "text/plain": [
       "9370"
      ]
     },
     "execution_count": 21,
     "metadata": {},
     "output_type": "execute_result"
    }
   ],
   "source": [
    "joko = movie[movie['title']=='Superman vs. The Elite (2012)'].index[0]\n",
    "joko"
   ]
  },
  {
   "cell_type": "code",
   "execution_count": 22,
   "metadata": {},
   "outputs": [
    {
     "data": {
      "text/plain": [
       "[(6260, 0.9999999999999998),\n",
       " (8637, 0.9999999999999998),\n",
       " (9370, 0.9999999999999998),\n",
       " (9570, 0.9999999999999998),\n",
       " (10167, 0.9999999999999998)]"
      ]
     },
     "execution_count": 22,
     "metadata": {},
     "output_type": "execute_result"
    }
   ],
   "source": [
    "similarJoko= list(enumerate(Score[joko]))\n",
    "similarJoko = sorted(similarJoko, key=lambda x: x[1], reverse=True)\n",
    "similarJoko[:5]"
   ]
  },
  {
   "cell_type": "code",
   "execution_count": 24,
   "metadata": {},
   "outputs": [
    {
     "data": {
      "text/html": [
       "<div>\n",
       "<style scoped>\n",
       "    .dataframe tbody tr th:only-of-type {\n",
       "        vertical-align: middle;\n",
       "    }\n",
       "\n",
       "    .dataframe tbody tr th {\n",
       "        vertical-align: top;\n",
       "    }\n",
       "\n",
       "    .dataframe thead th {\n",
       "        text-align: right;\n",
       "    }\n",
       "</style>\n",
       "<table border=\"1\" class=\"dataframe\">\n",
       "  <thead>\n",
       "    <tr style=\"text-align: right;\">\n",
       "      <th></th>\n",
       "      <th>movieId</th>\n",
       "      <th>title</th>\n",
       "      <th>genres</th>\n",
       "    </tr>\n",
       "  </thead>\n",
       "  <tbody>\n",
       "    <tr>\n",
       "      <td>0</td>\n",
       "      <td>94974</td>\n",
       "      <td>Superman vs. The Elite (2012)</td>\n",
       "      <td>Action|Animation</td>\n",
       "    </tr>\n",
       "    <tr>\n",
       "      <td>1</td>\n",
       "      <td>26913</td>\n",
       "      <td>Street Fighter II: The Animated Movie (Sutorît...</td>\n",
       "      <td>Action|Animation</td>\n",
       "    </tr>\n",
       "    <tr>\n",
       "      <td>2</td>\n",
       "      <td>79274</td>\n",
       "      <td>Batman: Under the Red Hood (2010)</td>\n",
       "      <td>Action|Animation</td>\n",
       "    </tr>\n",
       "    <tr>\n",
       "      <td>3</td>\n",
       "      <td>99813</td>\n",
       "      <td>Batman: The Dark Knight Returns, Part 2 (2013)</td>\n",
       "      <td>Action|Animation</td>\n",
       "    </tr>\n",
       "    <tr>\n",
       "      <td>4</td>\n",
       "      <td>124867</td>\n",
       "      <td>Justice League: Throne of Atlantis (2015)</td>\n",
       "      <td>Action|Animation</td>\n",
       "    </tr>\n",
       "    <tr>\n",
       "      <td>5</td>\n",
       "      <td>138104</td>\n",
       "      <td>Justice League: Gods and Monsters (2015)</td>\n",
       "      <td>Action|Animation</td>\n",
       "    </tr>\n",
       "    <tr>\n",
       "      <td>6</td>\n",
       "      <td>4850</td>\n",
       "      <td>Spriggan (Supurigan) (1998)</td>\n",
       "      <td>Action|Animation|Sci-Fi</td>\n",
       "    </tr>\n",
       "    <tr>\n",
       "      <td>7</td>\n",
       "      <td>27441</td>\n",
       "      <td>Blood: The Last Vampire (2000)</td>\n",
       "      <td>Action|Animation|Horror</td>\n",
       "    </tr>\n",
       "    <tr>\n",
       "      <td>8</td>\n",
       "      <td>60979</td>\n",
       "      <td>Batman: Gotham Knight (2008)</td>\n",
       "      <td>Action|Animation|Crime</td>\n",
       "    </tr>\n",
       "    <tr>\n",
       "      <td>9</td>\n",
       "      <td>70533</td>\n",
       "      <td>Evangelion: 1.0 You Are (Not) Alone (Evangerio...</td>\n",
       "      <td>Action|Animation|Sci-Fi</td>\n",
       "    </tr>\n",
       "  </tbody>\n",
       "</table>\n",
       "</div>"
      ],
      "text/plain": [
       "   movieId                                              title  \\\n",
       "0    94974                      Superman vs. The Elite (2012)   \n",
       "1    26913  Street Fighter II: The Animated Movie (Sutorît...   \n",
       "2    79274                  Batman: Under the Red Hood (2010)   \n",
       "3    99813     Batman: The Dark Knight Returns, Part 2 (2013)   \n",
       "4   124867          Justice League: Throne of Atlantis (2015)   \n",
       "5   138104           Justice League: Gods and Monsters (2015)   \n",
       "6     4850                        Spriggan (Supurigan) (1998)   \n",
       "7    27441                     Blood: The Last Vampire (2000)   \n",
       "8    60979                       Batman: Gotham Knight (2008)   \n",
       "9    70533  Evangelion: 1.0 You Are (Not) Alone (Evangerio...   \n",
       "\n",
       "                    genres  \n",
       "0         Action|Animation  \n",
       "1         Action|Animation  \n",
       "2         Action|Animation  \n",
       "3         Action|Animation  \n",
       "4         Action|Animation  \n",
       "5         Action|Animation  \n",
       "6  Action|Animation|Sci-Fi  \n",
       "7  Action|Animation|Horror  \n",
       "8   Action|Animation|Crime  \n",
       "9  Action|Animation|Sci-Fi  "
      ]
     },
     "execution_count": 24,
     "metadata": {},
     "output_type": "execute_result"
    }
   ],
   "source": [
    "index_ = []\n",
    "for i in similarJoko[:10]:\n",
    "    index_.append(i[0])\n",
    "\n",
    "for i in index_[:10]:\n",
    "    if i == joko:\n",
    "        index_.insert(0,i)\n",
    "dfJoko = movie.iloc[index_].reset_index()\n",
    "dfJoko = dfJoko.drop_duplicates(subset='title').reset_index()\n",
    "dfJoko = dfJoko.drop(columns=['level_0','index'])\n",
    "dfJoko"
   ]
  },
  {
   "cell_type": "markdown",
   "metadata": {},
   "source": [
    "__Film Favorit Joko__"
   ]
  },
  {
   "cell_type": "code",
   "execution_count": 25,
   "metadata": {},
   "outputs": [
    {
     "data": {
      "text/html": [
       "<div>\n",
       "<style scoped>\n",
       "    .dataframe tbody tr th:only-of-type {\n",
       "        vertical-align: middle;\n",
       "    }\n",
       "\n",
       "    .dataframe tbody tr th {\n",
       "        vertical-align: top;\n",
       "    }\n",
       "\n",
       "    .dataframe thead th {\n",
       "        text-align: right;\n",
       "    }\n",
       "</style>\n",
       "<table border=\"1\" class=\"dataframe\">\n",
       "  <thead>\n",
       "    <tr style=\"text-align: right;\">\n",
       "      <th></th>\n",
       "      <th>movieId</th>\n",
       "      <th>title</th>\n",
       "      <th>genres</th>\n",
       "    </tr>\n",
       "  </thead>\n",
       "  <tbody>\n",
       "    <tr>\n",
       "      <td>0</td>\n",
       "      <td>94974</td>\n",
       "      <td>Superman vs. The Elite (2012)</td>\n",
       "      <td>Action|Animation</td>\n",
       "    </tr>\n",
       "  </tbody>\n",
       "</table>\n",
       "</div>"
      ],
      "text/plain": [
       "   movieId                          title            genres\n",
       "0    94974  Superman vs. The Elite (2012)  Action|Animation"
      ]
     },
     "execution_count": 25,
     "metadata": {},
     "output_type": "execute_result"
    }
   ],
   "source": [
    "dfJoko.iloc[[0]]"
   ]
  },
  {
   "cell_type": "markdown",
   "metadata": {},
   "source": [
    "__5 Film Rekomendasi untuk Joko__"
   ]
  },
  {
   "cell_type": "code",
   "execution_count": 27,
   "metadata": {},
   "outputs": [
    {
     "data": {
      "text/html": [
       "<div>\n",
       "<style scoped>\n",
       "    .dataframe tbody tr th:only-of-type {\n",
       "        vertical-align: middle;\n",
       "    }\n",
       "\n",
       "    .dataframe tbody tr th {\n",
       "        vertical-align: top;\n",
       "    }\n",
       "\n",
       "    .dataframe thead th {\n",
       "        text-align: right;\n",
       "    }\n",
       "</style>\n",
       "<table border=\"1\" class=\"dataframe\">\n",
       "  <thead>\n",
       "    <tr style=\"text-align: right;\">\n",
       "      <th></th>\n",
       "      <th>movieId</th>\n",
       "      <th>title</th>\n",
       "      <th>genres</th>\n",
       "    </tr>\n",
       "  </thead>\n",
       "  <tbody>\n",
       "    <tr>\n",
       "      <td>1</td>\n",
       "      <td>26913</td>\n",
       "      <td>Street Fighter II: The Animated Movie (Sutorît...</td>\n",
       "      <td>Action|Animation</td>\n",
       "    </tr>\n",
       "    <tr>\n",
       "      <td>2</td>\n",
       "      <td>79274</td>\n",
       "      <td>Batman: Under the Red Hood (2010)</td>\n",
       "      <td>Action|Animation</td>\n",
       "    </tr>\n",
       "    <tr>\n",
       "      <td>3</td>\n",
       "      <td>99813</td>\n",
       "      <td>Batman: The Dark Knight Returns, Part 2 (2013)</td>\n",
       "      <td>Action|Animation</td>\n",
       "    </tr>\n",
       "    <tr>\n",
       "      <td>4</td>\n",
       "      <td>124867</td>\n",
       "      <td>Justice League: Throne of Atlantis (2015)</td>\n",
       "      <td>Action|Animation</td>\n",
       "    </tr>\n",
       "    <tr>\n",
       "      <td>5</td>\n",
       "      <td>138104</td>\n",
       "      <td>Justice League: Gods and Monsters (2015)</td>\n",
       "      <td>Action|Animation</td>\n",
       "    </tr>\n",
       "  </tbody>\n",
       "</table>\n",
       "</div>"
      ],
      "text/plain": [
       "   movieId                                              title  \\\n",
       "1    26913  Street Fighter II: The Animated Movie (Sutorît...   \n",
       "2    79274                  Batman: Under the Red Hood (2010)   \n",
       "3    99813     Batman: The Dark Knight Returns, Part 2 (2013)   \n",
       "4   124867          Justice League: Throne of Atlantis (2015)   \n",
       "5   138104           Justice League: Gods and Monsters (2015)   \n",
       "\n",
       "             genres  \n",
       "1  Action|Animation  \n",
       "2  Action|Animation  \n",
       "3  Action|Animation  \n",
       "4  Action|Animation  \n",
       "5  Action|Animation  "
      ]
     },
     "execution_count": 27,
     "metadata": {},
     "output_type": "execute_result"
    }
   ],
   "source": [
    "dfJoko.iloc[1:6]"
   ]
  }
 ],
 "metadata": {
  "kernelspec": {
   "display_name": "Python 3",
   "language": "python",
   "name": "python3"
  },
  "language_info": {
   "codemirror_mode": {
    "name": "ipython",
    "version": 3
   },
   "file_extension": ".py",
   "mimetype": "text/x-python",
   "name": "python",
   "nbconvert_exporter": "python",
   "pygments_lexer": "ipython3",
   "version": "3.7.4"
  }
 },
 "nbformat": 4,
 "nbformat_minor": 2
}
